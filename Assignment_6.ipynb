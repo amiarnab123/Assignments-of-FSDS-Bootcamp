{
 "cells": [
  {
   "cell_type": "markdown",
   "id": "c45fcdd5",
   "metadata": {},
   "source": [
    "### 1. What are escape characters, and how do you use them?"
   ]
  },
  {
   "cell_type": "code",
   "execution_count": null,
   "id": "3b91520f",
   "metadata": {},
   "outputs": [],
   "source": [
    "Ans: Escape characters represent characters in string values that would otherwise be difficult or impossible to type into \n",
    "    code. we can use the backslash character to escape a single character or symbol\n",
    "example: \\t, \\n"
   ]
  },
  {
   "cell_type": "markdown",
   "id": "dbf1c648",
   "metadata": {},
   "source": [
    "### 2. What do the escape characters n and t stand for?"
   ]
  },
  {
   "cell_type": "code",
   "execution_count": null,
   "id": "5086d940",
   "metadata": {},
   "outputs": [],
   "source": [
    "Ans: \\n stands for new line and \\t stands for tab"
   ]
  },
  {
   "cell_type": "markdown",
   "id": "0ff1ed9f",
   "metadata": {},
   "source": [
    "### 3. What is the way to include backslash characters in a string?"
   ]
  },
  {
   "cell_type": "code",
   "execution_count": null,
   "id": "cd2b5e01",
   "metadata": {},
   "outputs": [],
   "source": [
    "Ans: \\\\ character will include backslash characters in a string"
   ]
  },
  {
   "cell_type": "markdown",
   "id": "edb9e656",
   "metadata": {},
   "source": [
    "### 4. The string \"Howl's Moving Castle\" is a correct value. Why isn't the single quote character in the word Howl's not escaped a problem?"
   ]
  },
  {
   "cell_type": "code",
   "execution_count": null,
   "id": "453f248c",
   "metadata": {},
   "outputs": [],
   "source": [
    "Ans: The string \"Howl's Moving Castle\" is wrapped with double quotation, so escaped character is not needed. If it is \n",
    "    wrapped with single character then we have to use escaped character to shot out the problem.\n",
    "that is:\n",
    "    'Howl\\'s Moving Castle' -> 'Howl's Moving Castle'"
   ]
  },
  {
   "cell_type": "markdown",
   "id": "5947691c",
   "metadata": {},
   "source": [
    "### 5. How do you write a string of newlines if you don't want to use the n character?"
   ]
  },
  {
   "cell_type": "code",
   "execution_count": null,
   "id": "34692487",
   "metadata": {},
   "outputs": [],
   "source": [
    "Ans: If we wrapped the string with triple inverted comma and write multiline string, then we can write newlines without \n",
    "    using \\n character."
   ]
  },
  {
   "cell_type": "code",
   "execution_count": 2,
   "id": "4d3af678",
   "metadata": {},
   "outputs": [
    {
     "name": "stdout",
     "output_type": "stream",
     "text": [
      "iNeuron full stack\n",
      "Data Science Bootcamp Course\n"
     ]
    }
   ],
   "source": [
    "## Example:\n",
    "course = '''iNeuron full stack\n",
    "Data Science Bootcamp Course'''\n",
    "print(course)"
   ]
  },
  {
   "cell_type": "markdown",
   "id": "4b9684d3",
   "metadata": {},
   "source": [
    "### 6. What are the values of the given expressions?\n",
    "##### 'Hello, world!'[1]\n",
    "##### 'Hello, world!'[0:5]\n",
    "##### 'Hello, world!'[:5]\n",
    "##### 'Hello, world!'[3:]"
   ]
  },
  {
   "cell_type": "code",
   "execution_count": null,
   "id": "21000c55",
   "metadata": {},
   "outputs": [],
   "source": [
    "Ans : The values of given expressions are respectively:-\n",
    "'e'\n",
    "'Hello'\n",
    "'Hello'\n",
    "'lo, world!'"
   ]
  },
  {
   "cell_type": "markdown",
   "id": "a291d5c0",
   "metadata": {},
   "source": [
    "### 7. What are the values of the following expressions?\n",
    "##### 'Hello'.upper()\n",
    "##### 'Hello'.upper().isupper()\n",
    "##### 'Hello'.upper().lower()"
   ]
  },
  {
   "cell_type": "code",
   "execution_count": 3,
   "id": "7aefc710",
   "metadata": {},
   "outputs": [
    {
     "name": "stdout",
     "output_type": "stream",
     "text": [
      "HELLO\n",
      "True\n",
      "hello\n"
     ]
    }
   ],
   "source": [
    "print('Hello'.upper())\n",
    "print('Hello'.upper().isupper())\n",
    "print('Hello'.upper().lower())"
   ]
  },
  {
   "cell_type": "markdown",
   "id": "42bb8b28",
   "metadata": {},
   "source": [
    "### 8. What are the values of the following expressions?\n",
    "##### 'Remember, remember, the fifth of July.'.split()\n",
    "##### '-'.join('There can only one.'.split())"
   ]
  },
  {
   "cell_type": "code",
   "execution_count": 13,
   "id": "c556291d",
   "metadata": {},
   "outputs": [
    {
     "name": "stdout",
     "output_type": "stream",
     "text": [
      "['Remember,', 'remember,', 'the', 'fifith', 'of', 'July.'] \n",
      "\n",
      "There-can-only-one\n"
     ]
    }
   ],
   "source": [
    "print('Remember, remember, the fifith of July.'.split(),'\\n')\n",
    "print('-'.join(\"There can only one\".split()))"
   ]
  },
  {
   "cell_type": "markdown",
   "id": "6e28b048",
   "metadata": {},
   "source": [
    "### 9. What are the methods for right-justifying, left-justifying, and centering a string?"
   ]
  },
  {
   "cell_type": "code",
   "execution_count": null,
   "id": "9db17f3d",
   "metadata": {},
   "outputs": [],
   "source": [
    "Ans: The rjust(),ljust(),center() string methods, respectively"
   ]
  },
  {
   "cell_type": "markdown",
   "id": "d8a98eec",
   "metadata": {},
   "source": [
    "### 10. What is the best way to remove whitespace characters from the start or end?"
   ]
  },
  {
   "cell_type": "code",
   "execution_count": null,
   "id": "9fc30d94",
   "metadata": {},
   "outputs": [],
   "source": [
    "Ans: The lstrip() and rstrip() methods remove whitesapce characters from the left and right ends of a string respectively"
   ]
  }
 ],
 "metadata": {
  "kernelspec": {
   "display_name": "Python 3 (ipykernel)",
   "language": "python",
   "name": "python3"
  },
  "language_info": {
   "codemirror_mode": {
    "name": "ipython",
    "version": 3
   },
   "file_extension": ".py",
   "mimetype": "text/x-python",
   "name": "python",
   "nbconvert_exporter": "python",
   "pygments_lexer": "ipython3",
   "version": "3.9.12"
  }
 },
 "nbformat": 4,
 "nbformat_minor": 5
}
