{
 "cells": [
  {
   "cell_type": "markdown",
   "id": "2a585ad3",
   "metadata": {},
   "source": [
    "### 1. Why are functions advantageous to have in your programs?"
   ]
  },
  {
   "cell_type": "code",
   "execution_count": null,
   "id": "a77fc991",
   "metadata": {},
   "outputs": [],
   "source": [
    "Ans: Functions reduce the need for duplicate code. This makes programs shorter, easier to read, and easier to update.\n",
    "    The main advantage of functions is code Reusability."
   ]
  },
  {
   "cell_type": "markdown",
   "id": "9a6ce4f0",
   "metadata": {},
   "source": [
    "### 2. When does the code in a function run: when it's specified or when it's called?"
   ]
  },
  {
   "cell_type": "code",
   "execution_count": null,
   "id": "4e2ae677",
   "metadata": {},
   "outputs": [],
   "source": [
    "Ans: The code in a function executes when the function is called, not when the function is specified."
   ]
  },
  {
   "cell_type": "markdown",
   "id": "8aadf38c",
   "metadata": {},
   "source": [
    "### 3. What statement creates a function?"
   ]
  },
  {
   "cell_type": "code",
   "execution_count": null,
   "id": "dbc16f21",
   "metadata": {},
   "outputs": [],
   "source": [
    "Ans: The def statement defines a function\n",
    "Syntax of Function:\n",
    "def function_name(parameters):\n",
    "    \"\"\"doc string\"\"\"          \n",
    "    -----function body-----\n",
    "    -----function body-----\n",
    "    return value"
   ]
  },
  {
   "cell_type": "markdown",
   "id": "f3b37f90",
   "metadata": {},
   "source": [
    "### 4. What is the difference between a function and a function call?"
   ]
  },
  {
   "cell_type": "code",
   "execution_count": null,
   "id": "3df19d05",
   "metadata": {},
   "outputs": [],
   "source": [
    "Ans: A function is procedure to achieve a particular result. while function call is using this function to achive\n",
    "    that task.Using a function to do a particular task any point in program is called as function call."
   ]
  },
  {
   "cell_type": "markdown",
   "id": "be93488f",
   "metadata": {},
   "source": [
    "### 5. How many global scopes are there in a Python program? How many local scopes?"
   ]
  },
  {
   "cell_type": "code",
   "execution_count": null,
   "id": "576bee69",
   "metadata": {},
   "outputs": [],
   "source": [
    "Ans: There is one global scope, and a local scope is created whenever a function is called."
   ]
  },
  {
   "cell_type": "markdown",
   "id": "917ebd34",
   "metadata": {},
   "source": [
    "### 6. What happens to variables in a local scope when the function call returns?"
   ]
  },
  {
   "cell_type": "code",
   "execution_count": null,
   "id": "2e1a56fc",
   "metadata": {},
   "outputs": [],
   "source": [
    "Ans: When a function returns, the local scope is destroyed, and all the variables in it are forgotten."
   ]
  },
  {
   "cell_type": "markdown",
   "id": "a4fcacdf",
   "metadata": {},
   "source": [
    "### 7. What is the concept of a return value? Is it possible to have a return value in an expression?"
   ]
  },
  {
   "cell_type": "code",
   "execution_count": null,
   "id": "1b0004ed",
   "metadata": {},
   "outputs": [],
   "source": [
    "Ans: A return value is the value that a function call evaluates to. Like any value, a return value can be used\n",
    "     as part of an expression."
   ]
  },
  {
   "cell_type": "markdown",
   "id": "11d7da6f",
   "metadata": {},
   "source": [
    "### 8. If a function does not have a return statement, what is the return value of a call to that function?"
   ]
  },
  {
   "cell_type": "code",
   "execution_count": null,
   "id": "29f22cb5",
   "metadata": {},
   "outputs": [],
   "source": [
    "Ans: If there is no return statement for a function, its return value is None."
   ]
  },
  {
   "cell_type": "markdown",
   "id": "3596e8ba",
   "metadata": {},
   "source": [
    "### 9. How do you make a function variable refer to the global variable?"
   ]
  },
  {
   "cell_type": "code",
   "execution_count": null,
   "id": "e3b447cb",
   "metadata": {},
   "outputs": [],
   "source": [
    "Ans: A global statement will force a variable in a function to refer to the global variable.\n",
    "    If you want to refer to a global variable in a function, you can use the global keyword to declare which variables\n",
    "    are global."
   ]
  },
  {
   "cell_type": "markdown",
   "id": "1130fa2e",
   "metadata": {},
   "source": [
    "### 10. What is the data type of None?"
   ]
  },
  {
   "cell_type": "code",
   "execution_count": null,
   "id": "2c702e98",
   "metadata": {},
   "outputs": [],
   "source": [
    "Ans: The data type of None is NoneType."
   ]
  },
  {
   "cell_type": "markdown",
   "id": "1238bc98",
   "metadata": {},
   "source": [
    "### 11. What does the sentence import areallyourpetsnamederic do?"
   ]
  },
  {
   "cell_type": "code",
   "execution_count": null,
   "id": "fd962998",
   "metadata": {},
   "outputs": [],
   "source": [
    "Ans: That import statement imports a module named areallyourpetsnamederic."
   ]
  },
  {
   "cell_type": "markdown",
   "id": "89599cea",
   "metadata": {},
   "source": [
    "### 12. If you had a bacon() feature in a spam module, what would you call it after importing spam?"
   ]
  },
  {
   "cell_type": "code",
   "execution_count": null,
   "id": "15f28d2b",
   "metadata": {},
   "outputs": [],
   "source": [
    "Ans: This function can be called with spam.bacon()."
   ]
  },
  {
   "cell_type": "markdown",
   "id": "79b8e1a6",
   "metadata": {},
   "source": [
    "### 13. What can you do to save a programme from crashing if it encounters an error?"
   ]
  },
  {
   "cell_type": "code",
   "execution_count": null,
   "id": "e5796f15",
   "metadata": {},
   "outputs": [],
   "source": [
    "Ans: Place the line of code that might cause an error in a try clause and use except block to handle the error."
   ]
  },
  {
   "cell_type": "markdown",
   "id": "75a8e45f",
   "metadata": {},
   "source": [
    "### 14. What is the purpose of the try clause? What is the purpose of the except clause?"
   ]
  },
  {
   "cell_type": "code",
   "execution_count": null,
   "id": "e694c13a",
   "metadata": {},
   "outputs": [],
   "source": [
    "Ans:The code that could potentially cause an error goes in the try clause. The code that executes \n",
    "    if an error happens goes in the except clause"
   ]
  }
 ],
 "metadata": {
  "kernelspec": {
   "display_name": "Python 3",
   "language": "python",
   "name": "python3"
  },
  "language_info": {
   "codemirror_mode": {
    "name": "ipython",
    "version": 3
   },
   "file_extension": ".py",
   "mimetype": "text/x-python",
   "name": "python",
   "nbconvert_exporter": "python",
   "pygments_lexer": "ipython3",
   "version": "3.8.8"
  }
 },
 "nbformat": 4,
 "nbformat_minor": 5
}
