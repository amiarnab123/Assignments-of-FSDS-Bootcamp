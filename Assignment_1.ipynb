{
 "cells": [
  {
   "cell_type": "markdown",
   "id": "7e477716",
   "metadata": {},
   "source": [
    "## 1. In the below elements which of them are values or an expression? eg:- values can be integer or string and expressions will be mathematical operators."
   ]
  },
  {
   "cell_type": "code",
   "execution_count": null,
   "id": "1a5ded8a",
   "metadata": {},
   "outputs": [],
   "source": [
    "*         =expression\n",
    "'hello'   =values\n",
    "-87.8     =values\n",
    "-         =expression\n",
    "/         =expression\n",
    "+         =expression\n",
    "6         =values"
   ]
  },
  {
   "cell_type": "markdown",
   "id": "7ca1bf13",
   "metadata": {},
   "source": [
    "## 2. What is the difference between string and variable?"
   ]
  },
  {
   "cell_type": "code",
   "execution_count": null,
   "id": "9eefb1f5",
   "metadata": {},
   "outputs": [],
   "source": [
    "A variable is a store where we can store the values or any information and a string is a value which will be store in a variable. String is always write within a single or double quote."
   ]
  },
  {
   "cell_type": "markdown",
   "id": "89657851",
   "metadata": {},
   "source": [
    "## 3. Describe three different data types."
   ]
  },
  {
   "cell_type": "code",
   "execution_count": null,
   "id": "06c9633c",
   "metadata": {},
   "outputs": [],
   "source": [
    "(i) string-It is used for alphanumeric character.\n",
    "Ex: 'Hello World', 'How are you?'\n",
    "(ii) integer-It is used for whole number.\n",
    "Ex: 5,10,12,13\n",
    "(iii) Boolean-It is representing the logical values.\n",
    "Ex: True , False"
   ]
  },
  {
   "cell_type": "markdown",
   "id": "1af81d83",
   "metadata": {},
   "source": [
    "## 4. What is an expression made up of? What do all expressions do?"
   ]
  },
  {
   "cell_type": "code",
   "execution_count": null,
   "id": "30ad102a",
   "metadata": {},
   "outputs": [],
   "source": [
    "Expression is made up of variables, operators, and method invocations. Expression is a mathematical\n",
    "operation,it is interpreted to produce some other values."
   ]
  },
  {
   "cell_type": "markdown",
   "id": "dc6c759a",
   "metadata": {},
   "source": [
    "## 5. This assignment statements, like spam = 10. What is the difference between an expression and a statement?"
   ]
  },
  {
   "cell_type": "code",
   "execution_count": null,
   "id": "51ebc594",
   "metadata": {},
   "outputs": [],
   "source": [
    "Expression is made up of values, containers, and mathematical operators (operands) and the statement\n",
    "is just like a command that a python interpreter executes like print."
   ]
  },
  {
   "cell_type": "markdown",
   "id": "7d311d32",
   "metadata": {},
   "source": [
    "## 6. After running the following code, what does the variable bacon contain?"
   ]
  },
  {
   "cell_type": "code",
   "execution_count": 1,
   "id": "9b6f919b",
   "metadata": {},
   "outputs": [
    {
     "data": {
      "text/plain": [
       "23"
      ]
     },
     "execution_count": 1,
     "metadata": {},
     "output_type": "execute_result"
    }
   ],
   "source": [
    "bacon = 22\n",
    "bacon + 1"
   ]
  },
  {
   "cell_type": "markdown",
   "id": "4c2517c0",
   "metadata": {},
   "source": [
    "## 7. What should the values of the following two terms be?"
   ]
  },
  {
   "cell_type": "code",
   "execution_count": 2,
   "id": "1aa00e8e",
   "metadata": {},
   "outputs": [
    {
     "data": {
      "text/plain": [
       "'spamspamspam'"
      ]
     },
     "execution_count": 2,
     "metadata": {},
     "output_type": "execute_result"
    }
   ],
   "source": [
    "'spam' + 'spamspam'"
   ]
  },
  {
   "cell_type": "code",
   "execution_count": 4,
   "id": "4d71892c",
   "metadata": {},
   "outputs": [
    {
     "data": {
      "text/plain": [
       "'spamspamspam'"
      ]
     },
     "execution_count": 4,
     "metadata": {},
     "output_type": "execute_result"
    }
   ],
   "source": [
    "'spam' * 3"
   ]
  },
  {
   "cell_type": "markdown",
   "id": "c344419a",
   "metadata": {},
   "source": [
    "## 8. Why is eggs a valid variable name while 100 is invalid?"
   ]
  },
  {
   "cell_type": "code",
   "execution_count": null,
   "id": "f9728ba3",
   "metadata": {},
   "outputs": [],
   "source": [
    "Because we can't starts with integer to define a variable name. If we define variable name like\n",
    "'eggs100' then that will be fine"
   ]
  },
  {
   "cell_type": "markdown",
   "id": "5e406ae5",
   "metadata": {},
   "source": [
    "## 9. What three functions can be used to get the integer, floating-point number, or string version of a value?"
   ]
  },
  {
   "cell_type": "code",
   "execution_count": null,
   "id": "db8e6e55",
   "metadata": {},
   "outputs": [],
   "source": [
    "Three functions are str(), int(), float()"
   ]
  },
  {
   "cell_type": "markdown",
   "id": "1ad7e4d4",
   "metadata": {},
   "source": [
    "## 10. Why does this expression cause an error? How can you fix it?"
   ]
  },
  {
   "cell_type": "code",
   "execution_count": 5,
   "id": "63c363fe",
   "metadata": {},
   "outputs": [
    {
     "ename": "TypeError",
     "evalue": "can only concatenate str (not \"int\") to str",
     "output_type": "error",
     "traceback": [
      "\u001b[1;31m---------------------------------------------------------------------------\u001b[0m",
      "\u001b[1;31mTypeError\u001b[0m                                 Traceback (most recent call last)",
      "\u001b[1;32m<ipython-input-5-54adfbe3d9ea>\u001b[0m in \u001b[0;36m<module>\u001b[1;34m\u001b[0m\n\u001b[1;32m----> 1\u001b[1;33m \u001b[1;34m'I have eaten'\u001b[0m \u001b[1;33m+\u001b[0m \u001b[1;36m99\u001b[0m \u001b[1;33m+\u001b[0m \u001b[1;34m'burritos'\u001b[0m\u001b[1;33m\u001b[0m\u001b[1;33m\u001b[0m\u001b[0m\n\u001b[0m",
      "\u001b[1;31mTypeError\u001b[0m: can only concatenate str (not \"int\") to str"
     ]
    }
   ],
   "source": [
    "'I have eaten' + 99 + 'burritos' "
   ]
  },
  {
   "cell_type": "code",
   "execution_count": null,
   "id": "c32eb990",
   "metadata": {},
   "outputs": [],
   "source": [
    "Error occurs because we can only concatenate two string value or integer value. we cannot concatenate\n",
    "two different data type values.To fix this error we have to do typecasting."
   ]
  }
 ],
 "metadata": {
  "kernelspec": {
   "display_name": "Python 3",
   "language": "python",
   "name": "python3"
  },
  "language_info": {
   "codemirror_mode": {
    "name": "ipython",
    "version": 3
   },
   "file_extension": ".py",
   "mimetype": "text/x-python",
   "name": "python",
   "nbconvert_exporter": "python",
   "pygments_lexer": "ipython3",
   "version": "3.8.8"
  }
 },
 "nbformat": 4,
 "nbformat_minor": 5
}
